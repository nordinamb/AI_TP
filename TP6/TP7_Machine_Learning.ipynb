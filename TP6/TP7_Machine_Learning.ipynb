{
  "cells": [
    {
      "cell_type": "markdown",
      "metadata": {
        "id": "vBY1Vdsp00eN"
      },
      "source": [
        "<center><h1> Série de Travaux Pratiques N° 7 - Machine Learning </h1></center>\n",
        "<center><h2> K-Nearest Neighbor and Decision Tree</h2></center>\n",
        "\n",
        "---\n",
        "\n"
      ]
    },
    {
      "cell_type": "markdown",
      "metadata": {
        "id": "2OT_v-xSH8NW"
      },
      "source": [
        "Pour ce TP, on utilisera le **dataset IRIS**. Ce dernier est une base de données regroupant les caractéristiques de **trois espèces de fleurs d’Iris, à savoir Setosa, Versicolour et Virginica**. Chaque ligne de ce jeu de données est une observation des caractéristiques d’une fleur d’Iris. Ce dataset décrit les espèces d’Iris par quatre propriétés : longueur et largeur de sépales ainsi que longueur et largeur de pétales. La base de données comporte 150 observations (50 observations par espèce)."
      ]
    },
    {
      "cell_type": "markdown",
      "metadata": {
        "id": "2xIqBKf-_MK9"
      },
      "source": [
        "# **Partie I : K-Nearest Neighbor**"
      ]
    },
    {
      "cell_type": "markdown",
      "metadata": {
        "id": "fG-mqDhouw_G"
      },
      "source": [
        "# **Questions :**\n",
        "\n",
        "1- Importer les packages nécessaires\n",
        "\n",
        "2- Lire l'ensemble de données dans le dataframe pandas\n",
        "\n",
        "3- Afficher et explorer l'ensemble de données \"**iris.csv**\"\n",
        "\n",
        "4- Extraire les variables d'entrée X\n",
        "\n",
        "5- Extraire les variables de sortie y\n",
        "\n",
        "6- Diviser le dataset en Train / Test\n",
        "\n",
        "7- Mise à l'échelle des fonctionnalités avec Transform()\n",
        "\n",
        "8- Définir votre modèle **KNN**\n",
        "\n",
        "9- Entraîner le modèle\n",
        "\n",
        "10- Prédiction sur l'ensemble de test\n",
        "\n",
        "11- Évaluation du modèle à l'aide de métriques"
      ]
    },
    {
      "cell_type": "code",
      "execution_count": 2,
      "metadata": {
        "id": "Ab1P8GZVw4gj"
      },
      "outputs": [
        {
          "name": "stdout",
          "output_type": "stream",
          "text": [
            "   sepal.length  sepal.width  petal.length  petal.width variety\n",
            "0           5.1          3.5           1.4          0.2  Setosa\n",
            "1           4.9          3.0           1.4          0.2  Setosa\n",
            "2           4.7          3.2           1.3          0.2  Setosa\n",
            "3           4.6          3.1           1.5          0.2  Setosa\n",
            "4           5.0          3.6           1.4          0.2  Setosa\n",
            "   sepal.length  sepal.width  petal.length  petal.width\n",
            "0           5.1          3.5           1.4          0.2\n",
            "1           4.9          3.0           1.4          0.2\n",
            "2           4.7          3.2           1.3          0.2\n",
            "3           4.6          3.1           1.5          0.2\n",
            "4           5.0          3.6           1.4          0.2\n",
            "0    Setosa\n",
            "1    Setosa\n",
            "2    Setosa\n",
            "3    Setosa\n",
            "4    Setosa\n",
            "Name: variety, dtype: object\n",
            "[[16  0  0]\n",
            " [ 0 14  0]\n",
            " [ 0  1  7]]\n",
            "              precision    recall  f1-score   support\n",
            "\n",
            "      Setosa       1.00      1.00      1.00        16\n",
            "  Versicolor       0.93      1.00      0.97        14\n",
            "   Virginica       1.00      0.88      0.93         8\n",
            "\n",
            "    accuracy                           0.97        38\n",
            "   macro avg       0.98      0.96      0.97        38\n",
            "weighted avg       0.98      0.97      0.97        38\n",
            "\n",
            "97.36842105263158\n"
          ]
        }
      ],
      "source": [
        "\n",
        "# IRIS Dataset : Decision Tree\n",
        "\n",
        "\n",
        "\n",
        "# 1- Importer les packages nécessaires\n",
        "import pandas as pd\n",
        "from sklearn.model_selection import train_test_split\n",
        "from sklearn.preprocessing import StandardScaler\n",
        "from sklearn.neighbors import KNeighborsClassifier\n",
        "from sklearn.metrics import classification_report,confusion_matrix,accuracy_score\n",
        "# 2- Lire l'ensemble de données dans le dataframe pandas\n",
        "data =  pd.read_csv('iris.csv')\n",
        "# 3- Afficher et explorer l'ensemble de données \"iris.csv\"\n",
        "print(data.head())\n",
        "\n",
        "\n",
        "# 4- Extraire les variables d'entrée X\n",
        "X = data.drop(['variety'],axis= 1)\n",
        "print(X.head())\n",
        "# 5- Extraire les variables de sortie y\n",
        "y = data['variety']\n",
        "print(y.head())\n",
        "# 6- Diviser le dataset en Train / Test\n",
        "X_train, X_test,y_train, y_test = train_test_split(X,y , \n",
        "                                   random_state=104,  \n",
        "                                   test_size=0.25,  \n",
        "                                   shuffle=True)\n",
        "\n",
        "# 7- Mise à l'échelle des fonctionnalités avec Transform()\n",
        "scaler =  StandardScaler()\n",
        "scaler.fit(X_train)\n",
        "X_train =  scaler.transform(X_train)\n",
        "X_test = scaler.transform(X_test) \n",
        "\n",
        "# 8- Définir votre modèle KNN\n",
        "classif  = KNeighborsClassifier(n_neighbors = 5 )\n",
        "\n",
        "# 9- Entraîner le modèle\n",
        "classif.fit(X_train,y_train)\n",
        "# 10- Prédiction sur l'ensemble de test\n",
        "y_pred =  classif.predict(X_test)\n",
        "# 11- Évaluation du modèle à l'aide de métriques\n",
        "print(confusion_matrix(y_test,y_pred))\n",
        "print(classification_report(y_test,y_pred))\n",
        "print(accuracy_score(y_test,y_pred)*100)\n",
        "#12- Changer le K = {5, 10, 20, 30, 40}, que remarquez-vous?"
      ]
    },
    {
      "cell_type": "markdown",
      "metadata": {
        "id": "dRAn-qhBwqgp"
      },
      "source": [
        "# **Partie II : Decision Trees**"
      ]
    },
    {
      "cell_type": "markdown",
      "metadata": {
        "id": "UU1ELn91wg2R"
      },
      "source": [
        "# **Questions :**\n",
        "\n",
        "1- Importer les packages nécessaires\n",
        "\n",
        "2- Lire l'ensemble de données dans le dataframe pandas\n",
        "\n",
        "3- Afficher et explorer l'ensemble de données \"**iris.csv**\"\n",
        "\n",
        "4- Extraire les variables d'entrée X\n",
        "\n",
        "5- Extraire les variables de sortie y\n",
        "\n",
        "6- Diviser le dataset en Train / Test\n",
        "\n",
        "7- Mise à l'échelle des fonctionnalités avec Transform()\n",
        "\n",
        "8- Définir votre modèle **Decision Tree**\n",
        "\n",
        "9- Entraîner le modèle\n",
        "\n",
        "10- Prédiction sur l'ensemble de test\n",
        "\n",
        "11- Évaluation du modèle à l'aide de métriques"
      ]
    },
    {
      "cell_type": "code",
      "execution_count": 12,
      "metadata": {},
      "outputs": [],
      "source": [
        "import pandas as pd"
      ]
    },
    {
      "cell_type": "code",
      "execution_count": 3,
      "metadata": {
        "id": "EfkJv-sMxI-c"
      },
      "outputs": [
        {
          "name": "stdout",
          "output_type": "stream",
          "text": [
            "   sepal.length  sepal.width  petal.length  petal.width variety\n",
            "0           5.1          3.5           1.4          0.2  Setosa\n",
            "1           4.9          3.0           1.4          0.2  Setosa\n",
            "2           4.7          3.2           1.3          0.2  Setosa\n",
            "3           4.6          3.1           1.5          0.2  Setosa\n",
            "4           5.0          3.6           1.4          0.2  Setosa\n",
            "   sepal.length  sepal.width  petal.length  petal.width\n",
            "0           5.1          3.5           1.4          0.2\n",
            "1           4.9          3.0           1.4          0.2\n",
            "2           4.7          3.2           1.3          0.2\n",
            "3           4.6          3.1           1.5          0.2\n",
            "4           5.0          3.6           1.4          0.2\n",
            "0    Setosa\n",
            "1    Setosa\n",
            "2    Setosa\n",
            "3    Setosa\n",
            "4    Setosa\n",
            "Name: variety, dtype: object\n",
            "K: 5, Accuracy: 97.37%\n",
            "[[16  0  0]\n",
            " [ 0 14  0]\n",
            " [ 0  1  7]]\n",
            "              precision    recall  f1-score   support\n",
            "\n",
            "      Setosa       1.00      1.00      1.00        16\n",
            "  Versicolor       0.93      1.00      0.97        14\n",
            "   Virginica       1.00      0.88      0.93         8\n",
            "\n",
            "    accuracy                           0.97        38\n",
            "   macro avg       0.98      0.96      0.97        38\n",
            "weighted avg       0.98      0.97      0.97        38\n",
            "\n",
            "K: 10, Accuracy: 100.00%\n",
            "[[16  0  0]\n",
            " [ 0 14  0]\n",
            " [ 0  0  8]]\n",
            "              precision    recall  f1-score   support\n",
            "\n",
            "      Setosa       1.00      1.00      1.00        16\n",
            "  Versicolor       1.00      1.00      1.00        14\n",
            "   Virginica       1.00      1.00      1.00         8\n",
            "\n",
            "    accuracy                           1.00        38\n",
            "   macro avg       1.00      1.00      1.00        38\n",
            "weighted avg       1.00      1.00      1.00        38\n",
            "\n",
            "K: 20, Accuracy: 97.37%\n",
            "[[16  0  0]\n",
            " [ 0 14  0]\n",
            " [ 0  1  7]]\n",
            "              precision    recall  f1-score   support\n",
            "\n",
            "      Setosa       1.00      1.00      1.00        16\n",
            "  Versicolor       0.93      1.00      0.97        14\n",
            "   Virginica       1.00      0.88      0.93         8\n",
            "\n",
            "    accuracy                           0.97        38\n",
            "   macro avg       0.98      0.96      0.97        38\n",
            "weighted avg       0.98      0.97      0.97        38\n",
            "\n",
            "K: 30, Accuracy: 92.11%\n",
            "[[16  0  0]\n",
            " [ 0 12  2]\n",
            " [ 0  1  7]]\n",
            "              precision    recall  f1-score   support\n",
            "\n",
            "      Setosa       1.00      1.00      1.00        16\n",
            "  Versicolor       0.92      0.86      0.89        14\n",
            "   Virginica       0.78      0.88      0.82         8\n",
            "\n",
            "    accuracy                           0.92        38\n",
            "   macro avg       0.90      0.91      0.90        38\n",
            "weighted avg       0.92      0.92      0.92        38\n",
            "\n",
            "K: 40, Accuracy: 89.47%\n",
            "[[16  0  0]\n",
            " [ 0 12  2]\n",
            " [ 0  2  6]]\n",
            "              precision    recall  f1-score   support\n",
            "\n",
            "      Setosa       1.00      1.00      1.00        16\n",
            "  Versicolor       0.86      0.86      0.86        14\n",
            "   Virginica       0.75      0.75      0.75         8\n",
            "\n",
            "    accuracy                           0.89        38\n",
            "   macro avg       0.87      0.87      0.87        38\n",
            "weighted avg       0.89      0.89      0.89        38\n",
            "\n"
          ]
        }
      ],
      "source": [
        "\n",
        "\n",
        "\n",
        "\n",
        "\n",
        "# Read the dataset\n",
        "data = pd.read_csv('iris.csv')\n",
        "\n",
        "# Display the dataset\n",
        "print(data.head())\n",
        "\n",
        "# Extract input variables\n",
        "X = data.drop(['variety'], axis=1)\n",
        "print(X.head())\n",
        "\n",
        "# Extract output variable\n",
        "y = data['variety']\n",
        "print(y.head())\n",
        "\n",
        "# Split the dataset into training and testing sets\n",
        "X_train, X_test, y_train, y_test = train_test_split(X, y, random_state=104, test_size=0.25, shuffle=True)\n",
        "\n",
        "# Scale the features\n",
        "scaler = StandardScaler()\n",
        "scaler.fit(X_train)\n",
        "X_train = scaler.transform(X_train)\n",
        "X_test = scaler.transform(X_test)\n",
        "\n",
        "# Train and evaluate the model for different k values\n",
        "k_values = [5, 10, 20, 30, 40]\n",
        "accuracy_results = {}\n",
        "\n",
        "for k in k_values:\n",
        "    classif = KNeighborsClassifier(n_neighbors=k)\n",
        "    classif.fit(X_train, y_train)\n",
        "    y_pred = classif.predict(X_test)\n",
        "    accuracy = accuracy_score(y_test, y_pred) * 100\n",
        "    accuracy_results[k] = accuracy\n",
        "    print(f\"K: {k}, Accuracy: {accuracy:.2f}%\")\n",
        "    print(confusion_matrix(y_test, y_pred))\n",
        "    print(classification_report(y_test, y_pred))\n"
      ]
    }
  ],
  "metadata": {
    "colab": {
      "provenance": []
    },
    "kernelspec": {
      "display_name": "Python 3",
      "language": "python",
      "name": "python3"
    },
    "language_info": {
      "codemirror_mode": {
        "name": "ipython",
        "version": 3
      },
      "file_extension": ".py",
      "mimetype": "text/x-python",
      "name": "python",
      "nbconvert_exporter": "python",
      "pygments_lexer": "ipython3",
      "version": "3.11.0"
    }
  },
  "nbformat": 4,
  "nbformat_minor": 0
}
